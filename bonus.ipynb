{
 "cells": [
  {
   "cell_type": "code",
   "execution_count": null,
   "metadata": {},
   "outputs": [],
   "source": [
    "import math\n",
    "import numpy as np\n",
    "import pickle as pk\n",
    "from sklearn.linear_model import LinearRegression\n",
    "\n",
    "file = open('capacitor_dataset.pickle', 'rb')\n",
    "data = pk.load(file)\n",
    "\n",
    "nt = data[:,0].reshape((-1, 1))\n",
    "nq = np.log(data[:,1])\n",
    "\n",
    "model = LinearRegression().fit(nt, nq)\n",
    "capacitance = math.exp(model.intercept_) / 5\n",
    "resistance = -5 / (math.exp(model.intercept_) * model.coef_)\n",
    "print('Capacitance: ', capacitance)\n",
    "print('Resistance: ', resistance[0])"
   ]
  }
 ],
 "metadata": {
  "kernelspec": {
   "display_name": "Python 3 (ipykernel)",
   "language": "python",
   "name": "python3"
  },
  "language_info": {
   "codemirror_mode": {
    "name": "ipython",
    "version": 3
   },
   "file_extension": ".py",
   "mimetype": "text/x-python",
   "name": "python",
   "nbconvert_exporter": "python",
   "pygments_lexer": "ipython3",
   "version": "3.10.6"
  },
  "orig_nbformat": 4,
  "vscode": {
   "interpreter": {
    "hash": "e7370f93d1d0cde622a1f8e1c04877d8463912d04d973331ad4851f04de6915a"
   }
  }
 },
 "nbformat": 4,
 "nbformat_minor": 2
}
